{
 "cells": [
  {
   "cell_type": "code",
   "execution_count": 1,
   "id": "3b816ec6",
   "metadata": {},
   "outputs": [],
   "source": [
    "import pandas as pd\n",
    "import matplotlib.pyplot as plt\n",
    "import numpy as np\n",
    "import seaborn as sns\n",
    "from sklearn.preprocessing import MinMaxScaler\n",
    "from sklearn.model_selection import train_test_split\n",
    "from sklearn.metrics import classification_report, confusion_matrix, accuracy_score\n",
    "from sklearn.ensemble import GradientBoostingClassifier"
   ]
  },
  {
   "cell_type": "code",
   "execution_count": 2,
   "id": "2693f7b3",
   "metadata": {},
   "outputs": [
    {
     "data": {
      "text/html": [
       "<div>\n",
       "<style scoped>\n",
       "    .dataframe tbody tr th:only-of-type {\n",
       "        vertical-align: middle;\n",
       "    }\n",
       "\n",
       "    .dataframe tbody tr th {\n",
       "        vertical-align: top;\n",
       "    }\n",
       "\n",
       "    .dataframe thead th {\n",
       "        text-align: right;\n",
       "    }\n",
       "</style>\n",
       "<table border=\"1\" class=\"dataframe\">\n",
       "  <thead>\n",
       "    <tr style=\"text-align: right;\">\n",
       "      <th></th>\n",
       "      <th>Date</th>\n",
       "      <th>Location</th>\n",
       "      <th>MinTemp</th>\n",
       "      <th>MaxTemp</th>\n",
       "      <th>Rainfall</th>\n",
       "      <th>Evaporation</th>\n",
       "      <th>Sunshine</th>\n",
       "      <th>WindGustDir</th>\n",
       "      <th>WindGustSpeed</th>\n",
       "      <th>WindDir9am</th>\n",
       "      <th>...</th>\n",
       "      <th>Humidity9am</th>\n",
       "      <th>Humidity3pm</th>\n",
       "      <th>Pressure9am</th>\n",
       "      <th>Pressure3pm</th>\n",
       "      <th>Cloud9am</th>\n",
       "      <th>Cloud3pm</th>\n",
       "      <th>Temp9am</th>\n",
       "      <th>Temp3pm</th>\n",
       "      <th>RainToday</th>\n",
       "      <th>RainTomorrow</th>\n",
       "    </tr>\n",
       "  </thead>\n",
       "  <tbody>\n",
       "    <tr>\n",
       "      <th>118641</th>\n",
       "      <td>2011-11-09</td>\n",
       "      <td>PerthAirport</td>\n",
       "      <td>10.5</td>\n",
       "      <td>21.8</td>\n",
       "      <td>1.6</td>\n",
       "      <td>5.2</td>\n",
       "      <td>10.6</td>\n",
       "      <td>WSW</td>\n",
       "      <td>37.0</td>\n",
       "      <td>NNE</td>\n",
       "      <td>...</td>\n",
       "      <td>55.0</td>\n",
       "      <td>39.0</td>\n",
       "      <td>1017.8</td>\n",
       "      <td>1017.3</td>\n",
       "      <td>3.0</td>\n",
       "      <td>4.0</td>\n",
       "      <td>18.3</td>\n",
       "      <td>20.9</td>\n",
       "      <td>Yes</td>\n",
       "      <td>No</td>\n",
       "    </tr>\n",
       "    <tr>\n",
       "      <th>71324</th>\n",
       "      <td>2011-08-20</td>\n",
       "      <td>Mildura</td>\n",
       "      <td>6.4</td>\n",
       "      <td>19.9</td>\n",
       "      <td>0.2</td>\n",
       "      <td>1.8</td>\n",
       "      <td>6.9</td>\n",
       "      <td>NW</td>\n",
       "      <td>19.0</td>\n",
       "      <td>SSW</td>\n",
       "      <td>...</td>\n",
       "      <td>100.0</td>\n",
       "      <td>57.0</td>\n",
       "      <td>1030.5</td>\n",
       "      <td>1029.0</td>\n",
       "      <td>8.0</td>\n",
       "      <td>4.0</td>\n",
       "      <td>8.6</td>\n",
       "      <td>18.8</td>\n",
       "      <td>No</td>\n",
       "      <td>No</td>\n",
       "    </tr>\n",
       "    <tr>\n",
       "      <th>142595</th>\n",
       "      <td>2013-12-17</td>\n",
       "      <td>Katherine</td>\n",
       "      <td>22.7</td>\n",
       "      <td>37.0</td>\n",
       "      <td>19.4</td>\n",
       "      <td>10.4</td>\n",
       "      <td>NaN</td>\n",
       "      <td>SW</td>\n",
       "      <td>37.0</td>\n",
       "      <td>S</td>\n",
       "      <td>...</td>\n",
       "      <td>71.0</td>\n",
       "      <td>61.0</td>\n",
       "      <td>1009.4</td>\n",
       "      <td>1004.6</td>\n",
       "      <td>1.0</td>\n",
       "      <td>7.0</td>\n",
       "      <td>29.1</td>\n",
       "      <td>36.2</td>\n",
       "      <td>Yes</td>\n",
       "      <td>No</td>\n",
       "    </tr>\n",
       "    <tr>\n",
       "      <th>117069</th>\n",
       "      <td>2015-12-14</td>\n",
       "      <td>PearceRAAF</td>\n",
       "      <td>10.8</td>\n",
       "      <td>28.2</td>\n",
       "      <td>0.0</td>\n",
       "      <td>NaN</td>\n",
       "      <td>13.3</td>\n",
       "      <td>SW</td>\n",
       "      <td>44.0</td>\n",
       "      <td>W</td>\n",
       "      <td>...</td>\n",
       "      <td>61.0</td>\n",
       "      <td>42.0</td>\n",
       "      <td>1014.7</td>\n",
       "      <td>1013.0</td>\n",
       "      <td>NaN</td>\n",
       "      <td>NaN</td>\n",
       "      <td>22.3</td>\n",
       "      <td>26.5</td>\n",
       "      <td>No</td>\n",
       "      <td>No</td>\n",
       "    </tr>\n",
       "    <tr>\n",
       "      <th>114914</th>\n",
       "      <td>2009-10-22</td>\n",
       "      <td>PearceRAAF</td>\n",
       "      <td>6.6</td>\n",
       "      <td>25.2</td>\n",
       "      <td>0.0</td>\n",
       "      <td>NaN</td>\n",
       "      <td>11.3</td>\n",
       "      <td>SW</td>\n",
       "      <td>41.0</td>\n",
       "      <td>S</td>\n",
       "      <td>...</td>\n",
       "      <td>64.0</td>\n",
       "      <td>50.0</td>\n",
       "      <td>1017.3</td>\n",
       "      <td>1015.0</td>\n",
       "      <td>0.0</td>\n",
       "      <td>5.0</td>\n",
       "      <td>17.4</td>\n",
       "      <td>24.0</td>\n",
       "      <td>No</td>\n",
       "      <td>No</td>\n",
       "    </tr>\n",
       "  </tbody>\n",
       "</table>\n",
       "<p>5 rows × 23 columns</p>\n",
       "</div>"
      ],
      "text/plain": [
       "              Date      Location  MinTemp  MaxTemp  Rainfall  Evaporation  \\\n",
       "118641  2011-11-09  PerthAirport     10.5     21.8       1.6          5.2   \n",
       "71324   2011-08-20       Mildura      6.4     19.9       0.2          1.8   \n",
       "142595  2013-12-17     Katherine     22.7     37.0      19.4         10.4   \n",
       "117069  2015-12-14    PearceRAAF     10.8     28.2       0.0          NaN   \n",
       "114914  2009-10-22    PearceRAAF      6.6     25.2       0.0          NaN   \n",
       "\n",
       "        Sunshine WindGustDir  WindGustSpeed WindDir9am  ... Humidity9am  \\\n",
       "118641      10.6         WSW           37.0        NNE  ...        55.0   \n",
       "71324        6.9          NW           19.0        SSW  ...       100.0   \n",
       "142595       NaN          SW           37.0          S  ...        71.0   \n",
       "117069      13.3          SW           44.0          W  ...        61.0   \n",
       "114914      11.3          SW           41.0          S  ...        64.0   \n",
       "\n",
       "        Humidity3pm  Pressure9am  Pressure3pm  Cloud9am  Cloud3pm  Temp9am  \\\n",
       "118641         39.0       1017.8       1017.3       3.0       4.0     18.3   \n",
       "71324          57.0       1030.5       1029.0       8.0       4.0      8.6   \n",
       "142595         61.0       1009.4       1004.6       1.0       7.0     29.1   \n",
       "117069         42.0       1014.7       1013.0       NaN       NaN     22.3   \n",
       "114914         50.0       1017.3       1015.0       0.0       5.0     17.4   \n",
       "\n",
       "        Temp3pm  RainToday  RainTomorrow  \n",
       "118641     20.9        Yes            No  \n",
       "71324      18.8         No            No  \n",
       "142595     36.2        Yes            No  \n",
       "117069     26.5         No            No  \n",
       "114914     24.0         No            No  \n",
       "\n",
       "[5 rows x 23 columns]"
      ]
     },
     "execution_count": 2,
     "metadata": {},
     "output_type": "execute_result"
    }
   ],
   "source": [
    "df = pd.read_csv('weatherAUS.csv')\n",
    "df.sample(5)"
   ]
  },
  {
   "cell_type": "code",
   "execution_count": 3,
   "id": "548976f5",
   "metadata": {},
   "outputs": [
    {
     "name": "stdout",
     "output_type": "stream",
     "text": [
      "<class 'pandas.core.frame.DataFrame'>\n",
      "RangeIndex: 145460 entries, 0 to 145459\n",
      "Data columns (total 23 columns):\n",
      " #   Column         Non-Null Count   Dtype  \n",
      "---  ------         --------------   -----  \n",
      " 0   Date           145460 non-null  object \n",
      " 1   Location       145460 non-null  object \n",
      " 2   MinTemp        143975 non-null  float64\n",
      " 3   MaxTemp        144199 non-null  float64\n",
      " 4   Rainfall       142199 non-null  float64\n",
      " 5   Evaporation    82670 non-null   float64\n",
      " 6   Sunshine       75625 non-null   float64\n",
      " 7   WindGustDir    135134 non-null  object \n",
      " 8   WindGustSpeed  135197 non-null  float64\n",
      " 9   WindDir9am     134894 non-null  object \n",
      " 10  WindDir3pm     141232 non-null  object \n",
      " 11  WindSpeed9am   143693 non-null  float64\n",
      " 12  WindSpeed3pm   142398 non-null  float64\n",
      " 13  Humidity9am    142806 non-null  float64\n",
      " 14  Humidity3pm    140953 non-null  float64\n",
      " 15  Pressure9am    130395 non-null  float64\n",
      " 16  Pressure3pm    130432 non-null  float64\n",
      " 17  Cloud9am       89572 non-null   float64\n",
      " 18  Cloud3pm       86102 non-null   float64\n",
      " 19  Temp9am        143693 non-null  float64\n",
      " 20  Temp3pm        141851 non-null  float64\n",
      " 21  RainToday      142199 non-null  object \n",
      " 22  RainTomorrow   142193 non-null  object \n",
      "dtypes: float64(16), object(7)\n",
      "memory usage: 25.5+ MB\n"
     ]
    },
    {
     "data": {
      "text/plain": [
       "(Date             3436\n",
       " Location           49\n",
       " MinTemp           389\n",
       " MaxTemp           505\n",
       " Rainfall          681\n",
       " Evaporation       358\n",
       " Sunshine          145\n",
       " WindGustDir        16\n",
       " WindGustSpeed      67\n",
       " WindDir9am         16\n",
       " WindDir3pm         16\n",
       " WindSpeed9am       43\n",
       " WindSpeed3pm       44\n",
       " Humidity9am       101\n",
       " Humidity3pm       101\n",
       " Pressure9am       546\n",
       " Pressure3pm       549\n",
       " Cloud9am           10\n",
       " Cloud3pm           10\n",
       " Temp9am           441\n",
       " Temp3pm           502\n",
       " RainToday           2\n",
       " RainTomorrow        2\n",
       " dtype: int64,\n",
       " None)"
      ]
     },
     "execution_count": 3,
     "metadata": {},
     "output_type": "execute_result"
    }
   ],
   "source": [
    "df.nunique(), df.info()"
   ]
  },
  {
   "cell_type": "markdown",
   "id": "90e45e08",
   "metadata": {},
   "source": [
    "## Converting the Object into Date into DateTime datatype and extracting the year and month from the Date"
   ]
  },
  {
   "cell_type": "code",
   "execution_count": 4,
   "id": "8513114d",
   "metadata": {},
   "outputs": [
    {
     "data": {
      "text/plain": [
       "Date             datetime64[ns]\n",
       "Location                 object\n",
       "MinTemp                 float64\n",
       "MaxTemp                 float64\n",
       "Rainfall                float64\n",
       "Evaporation             float64\n",
       "Sunshine                float64\n",
       "WindGustDir              object\n",
       "WindGustSpeed           float64\n",
       "WindDir9am               object\n",
       "WindDir3pm               object\n",
       "WindSpeed9am            float64\n",
       "WindSpeed3pm            float64\n",
       "Humidity9am             float64\n",
       "Humidity3pm             float64\n",
       "Pressure9am             float64\n",
       "Pressure3pm             float64\n",
       "Cloud9am                float64\n",
       "Cloud3pm                float64\n",
       "Temp9am                 float64\n",
       "Temp3pm                 float64\n",
       "RainToday                object\n",
       "RainTomorrow             object\n",
       "dtype: object"
      ]
     },
     "execution_count": 4,
     "metadata": {},
     "output_type": "execute_result"
    }
   ],
   "source": [
    "df.Date = pd.to_datetime(df.Date, format=\"%Y/%m/%d\", errors='raise')\n",
    "df.dtypes"
   ]
  },
  {
   "cell_type": "code",
   "execution_count": 5,
   "id": "36fccff0",
   "metadata": {},
   "outputs": [
    {
     "data": {
      "text/html": [
       "<div>\n",
       "<style scoped>\n",
       "    .dataframe tbody tr th:only-of-type {\n",
       "        vertical-align: middle;\n",
       "    }\n",
       "\n",
       "    .dataframe tbody tr th {\n",
       "        vertical-align: top;\n",
       "    }\n",
       "\n",
       "    .dataframe thead th {\n",
       "        text-align: right;\n",
       "    }\n",
       "</style>\n",
       "<table border=\"1\" class=\"dataframe\">\n",
       "  <thead>\n",
       "    <tr style=\"text-align: right;\">\n",
       "      <th></th>\n",
       "      <th>Location</th>\n",
       "      <th>MinTemp</th>\n",
       "      <th>MaxTemp</th>\n",
       "      <th>Rainfall</th>\n",
       "      <th>Evaporation</th>\n",
       "      <th>Sunshine</th>\n",
       "      <th>WindGustDir</th>\n",
       "      <th>WindGustSpeed</th>\n",
       "      <th>WindDir9am</th>\n",
       "      <th>WindDir3pm</th>\n",
       "      <th>...</th>\n",
       "      <th>Pressure9am</th>\n",
       "      <th>Pressure3pm</th>\n",
       "      <th>Cloud9am</th>\n",
       "      <th>Cloud3pm</th>\n",
       "      <th>Temp9am</th>\n",
       "      <th>Temp3pm</th>\n",
       "      <th>RainToday</th>\n",
       "      <th>RainTomorrow</th>\n",
       "      <th>Year</th>\n",
       "      <th>Month</th>\n",
       "    </tr>\n",
       "  </thead>\n",
       "  <tbody>\n",
       "    <tr>\n",
       "      <th>9719</th>\n",
       "      <td>CoffsHarbour</td>\n",
       "      <td>14.8</td>\n",
       "      <td>22.7</td>\n",
       "      <td>0.0</td>\n",
       "      <td>4.4</td>\n",
       "      <td>7.4</td>\n",
       "      <td>SW</td>\n",
       "      <td>39.0</td>\n",
       "      <td>SW</td>\n",
       "      <td>E</td>\n",
       "      <td>...</td>\n",
       "      <td>1017.8</td>\n",
       "      <td>1014.9</td>\n",
       "      <td>3.0</td>\n",
       "      <td>7.0</td>\n",
       "      <td>21.2</td>\n",
       "      <td>21.7</td>\n",
       "      <td>No</td>\n",
       "      <td>Yes</td>\n",
       "      <td>2010</td>\n",
       "      <td>10</td>\n",
       "    </tr>\n",
       "    <tr>\n",
       "      <th>26756</th>\n",
       "      <td>Penrith</td>\n",
       "      <td>7.8</td>\n",
       "      <td>23.2</td>\n",
       "      <td>0.0</td>\n",
       "      <td>NaN</td>\n",
       "      <td>NaN</td>\n",
       "      <td>WNW</td>\n",
       "      <td>41.0</td>\n",
       "      <td>NaN</td>\n",
       "      <td>W</td>\n",
       "      <td>...</td>\n",
       "      <td>NaN</td>\n",
       "      <td>NaN</td>\n",
       "      <td>NaN</td>\n",
       "      <td>NaN</td>\n",
       "      <td>14.1</td>\n",
       "      <td>20.0</td>\n",
       "      <td>No</td>\n",
       "      <td>No</td>\n",
       "      <td>2016</td>\n",
       "      <td>5</td>\n",
       "    </tr>\n",
       "    <tr>\n",
       "      <th>53547</th>\n",
       "      <td>MountGinini</td>\n",
       "      <td>5.6</td>\n",
       "      <td>15.6</td>\n",
       "      <td>0.2</td>\n",
       "      <td>NaN</td>\n",
       "      <td>NaN</td>\n",
       "      <td>WSW</td>\n",
       "      <td>54.0</td>\n",
       "      <td>W</td>\n",
       "      <td>W</td>\n",
       "      <td>...</td>\n",
       "      <td>NaN</td>\n",
       "      <td>NaN</td>\n",
       "      <td>NaN</td>\n",
       "      <td>NaN</td>\n",
       "      <td>7.9</td>\n",
       "      <td>14.7</td>\n",
       "      <td>No</td>\n",
       "      <td>No</td>\n",
       "      <td>2013</td>\n",
       "      <td>3</td>\n",
       "    </tr>\n",
       "    <tr>\n",
       "      <th>95542</th>\n",
       "      <td>Townsville</td>\n",
       "      <td>15.9</td>\n",
       "      <td>29.7</td>\n",
       "      <td>0.0</td>\n",
       "      <td>7.0</td>\n",
       "      <td>10.7</td>\n",
       "      <td>NE</td>\n",
       "      <td>31.0</td>\n",
       "      <td>SE</td>\n",
       "      <td>NE</td>\n",
       "      <td>...</td>\n",
       "      <td>1017.7</td>\n",
       "      <td>1013.4</td>\n",
       "      <td>1.0</td>\n",
       "      <td>1.0</td>\n",
       "      <td>25.3</td>\n",
       "      <td>28.7</td>\n",
       "      <td>No</td>\n",
       "      <td>No</td>\n",
       "      <td>2015</td>\n",
       "      <td>5</td>\n",
       "    </tr>\n",
       "    <tr>\n",
       "      <th>144998</th>\n",
       "      <td>Uluru</td>\n",
       "      <td>22.5</td>\n",
       "      <td>33.2</td>\n",
       "      <td>0.4</td>\n",
       "      <td>NaN</td>\n",
       "      <td>NaN</td>\n",
       "      <td>ENE</td>\n",
       "      <td>31.0</td>\n",
       "      <td>E</td>\n",
       "      <td>WSW</td>\n",
       "      <td>...</td>\n",
       "      <td>1013.1</td>\n",
       "      <td>1010.3</td>\n",
       "      <td>1.0</td>\n",
       "      <td>NaN</td>\n",
       "      <td>27.6</td>\n",
       "      <td>31.5</td>\n",
       "      <td>No</td>\n",
       "      <td>No</td>\n",
       "      <td>2016</td>\n",
       "      <td>3</td>\n",
       "    </tr>\n",
       "  </tbody>\n",
       "</table>\n",
       "<p>5 rows × 24 columns</p>\n",
       "</div>"
      ],
      "text/plain": [
       "            Location  MinTemp  MaxTemp  Rainfall  Evaporation  Sunshine  \\\n",
       "9719    CoffsHarbour     14.8     22.7       0.0          4.4       7.4   \n",
       "26756        Penrith      7.8     23.2       0.0          NaN       NaN   \n",
       "53547    MountGinini      5.6     15.6       0.2          NaN       NaN   \n",
       "95542     Townsville     15.9     29.7       0.0          7.0      10.7   \n",
       "144998         Uluru     22.5     33.2       0.4          NaN       NaN   \n",
       "\n",
       "       WindGustDir  WindGustSpeed WindDir9am WindDir3pm  ...  Pressure9am  \\\n",
       "9719            SW           39.0         SW          E  ...       1017.8   \n",
       "26756          WNW           41.0        NaN          W  ...          NaN   \n",
       "53547          WSW           54.0          W          W  ...          NaN   \n",
       "95542           NE           31.0         SE         NE  ...       1017.7   \n",
       "144998         ENE           31.0          E        WSW  ...       1013.1   \n",
       "\n",
       "        Pressure3pm  Cloud9am  Cloud3pm  Temp9am  Temp3pm  RainToday  \\\n",
       "9719         1014.9       3.0       7.0     21.2     21.7         No   \n",
       "26756           NaN       NaN       NaN     14.1     20.0         No   \n",
       "53547           NaN       NaN       NaN      7.9     14.7         No   \n",
       "95542        1013.4       1.0       1.0     25.3     28.7         No   \n",
       "144998       1010.3       1.0       NaN     27.6     31.5         No   \n",
       "\n",
       "        RainTomorrow  Year  Month  \n",
       "9719             Yes  2010     10  \n",
       "26756             No  2016      5  \n",
       "53547             No  2013      3  \n",
       "95542             No  2015      5  \n",
       "144998            No  2016      3  \n",
       "\n",
       "[5 rows x 24 columns]"
      ]
     },
     "execution_count": 5,
     "metadata": {},
     "output_type": "execute_result"
    }
   ],
   "source": [
    "df[\"Year\"]=pd.DatetimeIndex(df.Date).year\n",
    "df[\"Month\"]=pd.DatetimeIndex(df.Date).month\n",
    "df.drop(\"Date\", axis=\"columns\", inplace=True)\n",
    "df.sample(5)"
   ]
  },
  {
   "cell_type": "code",
   "execution_count": 6,
   "id": "43efb960",
   "metadata": {},
   "outputs": [
    {
     "data": {
      "text/plain": [
       "Location          object\n",
       "MinTemp          float64\n",
       "MaxTemp          float64\n",
       "Rainfall         float64\n",
       "Evaporation      float64\n",
       "Sunshine         float64\n",
       "WindGustDir       object\n",
       "WindGustSpeed    float64\n",
       "WindDir9am        object\n",
       "WindDir3pm        object\n",
       "WindSpeed9am     float64\n",
       "WindSpeed3pm     float64\n",
       "Humidity9am      float64\n",
       "Humidity3pm      float64\n",
       "Pressure9am      float64\n",
       "Pressure3pm      float64\n",
       "Cloud9am         float64\n",
       "Cloud3pm         float64\n",
       "Temp9am          float64\n",
       "Temp3pm          float64\n",
       "RainToday         object\n",
       "RainTomorrow      object\n",
       "Year               int64\n",
       "Month              int64\n",
       "dtype: object"
      ]
     },
     "execution_count": 6,
     "metadata": {},
     "output_type": "execute_result"
    }
   ],
   "source": [
    "df.dtypes"
   ]
  },
  {
   "cell_type": "markdown",
   "id": "d90438a4",
   "metadata": {},
   "source": [
    "## Missing value imputation in the numeric columns and dropping rows from object columns with nan and null values"
   ]
  },
  {
   "cell_type": "code",
   "execution_count": 7,
   "id": "1fb9c753",
   "metadata": {},
   "outputs": [
    {
     "name": "stdout",
     "output_type": "stream",
     "text": [
      "<class 'pandas.core.frame.DataFrame'>\n",
      "RangeIndex: 145460 entries, 0 to 145459\n",
      "Data columns (total 24 columns):\n",
      " #   Column         Non-Null Count   Dtype  \n",
      "---  ------         --------------   -----  \n",
      " 0   Location       145460 non-null  object \n",
      " 1   MinTemp        145460 non-null  float64\n",
      " 2   MaxTemp        145460 non-null  float64\n",
      " 3   Rainfall       145460 non-null  float64\n",
      " 4   Evaporation    145460 non-null  float64\n",
      " 5   Sunshine       145460 non-null  float64\n",
      " 6   WindGustDir    135134 non-null  object \n",
      " 7   WindGustSpeed  145460 non-null  float64\n",
      " 8   WindDir9am     134894 non-null  object \n",
      " 9   WindDir3pm     141232 non-null  object \n",
      " 10  WindSpeed9am   145460 non-null  float64\n",
      " 11  WindSpeed3pm   145460 non-null  float64\n",
      " 12  Humidity9am    145460 non-null  float64\n",
      " 13  Humidity3pm    145460 non-null  float64\n",
      " 14  Pressure9am    145460 non-null  float64\n",
      " 15  Pressure3pm    145460 non-null  float64\n",
      " 16  Cloud9am       145460 non-null  float64\n",
      " 17  Cloud3pm       145460 non-null  float64\n",
      " 18  Temp9am        145460 non-null  float64\n",
      " 19  Temp3pm        145460 non-null  float64\n",
      " 20  RainToday      142199 non-null  object \n",
      " 21  RainTomorrow   142193 non-null  object \n",
      " 22  Year           145460 non-null  int64  \n",
      " 23  Month          145460 non-null  int64  \n",
      "dtypes: float64(16), int64(2), object(6)\n",
      "memory usage: 26.6+ MB\n"
     ]
    }
   ],
   "source": [
    "def fill_missing_values(df):\n",
    "    for col in df.columns:\n",
    "        if df[col].dtypes in [\"float64\", \"int64\"]:\n",
    "            df[col].fillna(np.mean(df[col]), inplace = True)\n",
    "            \n",
    "fill_missing_values(df)\n",
    "df.info()"
   ]
  },
  {
   "cell_type": "code",
   "execution_count": 8,
   "id": "b97b98f1",
   "metadata": {},
   "outputs": [
    {
     "name": "stdout",
     "output_type": "stream",
     "text": [
      "<class 'pandas.core.frame.DataFrame'>\n",
      "Int64Index: 123710 entries, 0 to 145458\n",
      "Data columns (total 24 columns):\n",
      " #   Column         Non-Null Count   Dtype  \n",
      "---  ------         --------------   -----  \n",
      " 0   Location       123710 non-null  object \n",
      " 1   MinTemp        123710 non-null  float64\n",
      " 2   MaxTemp        123710 non-null  float64\n",
      " 3   Rainfall       123710 non-null  float64\n",
      " 4   Evaporation    123710 non-null  float64\n",
      " 5   Sunshine       123710 non-null  float64\n",
      " 6   WindGustDir    123710 non-null  object \n",
      " 7   WindGustSpeed  123710 non-null  float64\n",
      " 8   WindDir9am     123710 non-null  object \n",
      " 9   WindDir3pm     123710 non-null  object \n",
      " 10  WindSpeed9am   123710 non-null  float64\n",
      " 11  WindSpeed3pm   123710 non-null  float64\n",
      " 12  Humidity9am    123710 non-null  float64\n",
      " 13  Humidity3pm    123710 non-null  float64\n",
      " 14  Pressure9am    123710 non-null  float64\n",
      " 15  Pressure3pm    123710 non-null  float64\n",
      " 16  Cloud9am       123710 non-null  float64\n",
      " 17  Cloud3pm       123710 non-null  float64\n",
      " 18  Temp9am        123710 non-null  float64\n",
      " 19  Temp3pm        123710 non-null  float64\n",
      " 20  RainToday      123710 non-null  object \n",
      " 21  RainTomorrow   123710 non-null  object \n",
      " 22  Year           123710 non-null  int64  \n",
      " 23  Month          123710 non-null  int64  \n",
      "dtypes: float64(16), int64(2), object(6)\n",
      "memory usage: 23.6+ MB\n"
     ]
    }
   ],
   "source": [
    "df.dropna(axis=0, inplace=True)\n",
    "df.info()"
   ]
  },
  {
   "cell_type": "markdown",
   "id": "6f58d8ef",
   "metadata": {},
   "source": [
    "## Splitting the data into dependent and Independent Variables.\n",
    "## Slitting the independent variables into numerical and categorical data"
   ]
  },
  {
   "cell_type": "code",
   "execution_count": 9,
   "id": "301e4e1d",
   "metadata": {},
   "outputs": [],
   "source": [
    "X = df.drop(\"RainTomorrow\", axis = \"columns\")\n",
    "y= df[\"RainTomorrow\"]\n",
    "y = [1 if ele==\"Yes\" else 0 for ele in y]\n",
    "y = pd.Series(y, name=\"target\")"
   ]
  },
  {
   "cell_type": "code",
   "execution_count": 10,
   "id": "83e0eda4",
   "metadata": {},
   "outputs": [],
   "source": [
    "num_df = X.select_dtypes(include=\"number\")\n",
    "cat_df = X.select_dtypes(include=\"object\")"
   ]
  },
  {
   "cell_type": "code",
   "execution_count": 11,
   "id": "713888ee",
   "metadata": {},
   "outputs": [
    {
     "data": {
      "text/html": [
       "<div>\n",
       "<style scoped>\n",
       "    .dataframe tbody tr th:only-of-type {\n",
       "        vertical-align: middle;\n",
       "    }\n",
       "\n",
       "    .dataframe tbody tr th {\n",
       "        vertical-align: top;\n",
       "    }\n",
       "\n",
       "    .dataframe thead th {\n",
       "        text-align: right;\n",
       "    }\n",
       "</style>\n",
       "<table border=\"1\" class=\"dataframe\">\n",
       "  <thead>\n",
       "    <tr style=\"text-align: right;\">\n",
       "      <th></th>\n",
       "      <th>MinTemp</th>\n",
       "      <th>MaxTemp</th>\n",
       "      <th>Rainfall</th>\n",
       "      <th>Evaporation</th>\n",
       "      <th>Sunshine</th>\n",
       "      <th>WindGustSpeed</th>\n",
       "      <th>WindSpeed9am</th>\n",
       "      <th>WindSpeed3pm</th>\n",
       "      <th>Humidity9am</th>\n",
       "      <th>Humidity3pm</th>\n",
       "      <th>Pressure9am</th>\n",
       "      <th>Pressure3pm</th>\n",
       "      <th>Cloud9am</th>\n",
       "      <th>Cloud3pm</th>\n",
       "      <th>Temp9am</th>\n",
       "      <th>Temp3pm</th>\n",
       "      <th>Year</th>\n",
       "      <th>Month</th>\n",
       "    </tr>\n",
       "  </thead>\n",
       "  <tbody>\n",
       "    <tr>\n",
       "      <th>64792</th>\n",
       "      <td>1.8</td>\n",
       "      <td>11.2</td>\n",
       "      <td>4.6</td>\n",
       "      <td>3.800000</td>\n",
       "      <td>2.900000</td>\n",
       "      <td>57.0</td>\n",
       "      <td>31.0</td>\n",
       "      <td>35.0</td>\n",
       "      <td>74.0</td>\n",
       "      <td>62.0</td>\n",
       "      <td>1005.60000</td>\n",
       "      <td>999.700000</td>\n",
       "      <td>7.000000</td>\n",
       "      <td>7.00000</td>\n",
       "      <td>6.7</td>\n",
       "      <td>10.3</td>\n",
       "      <td>2010</td>\n",
       "      <td>8</td>\n",
       "    </tr>\n",
       "    <tr>\n",
       "      <th>100191</th>\n",
       "      <td>4.3</td>\n",
       "      <td>22.4</td>\n",
       "      <td>0.0</td>\n",
       "      <td>2.400000</td>\n",
       "      <td>10.100000</td>\n",
       "      <td>31.0</td>\n",
       "      <td>13.0</td>\n",
       "      <td>11.0</td>\n",
       "      <td>100.0</td>\n",
       "      <td>48.0</td>\n",
       "      <td>1027.70000</td>\n",
       "      <td>1024.000000</td>\n",
       "      <td>2.000000</td>\n",
       "      <td>1.00000</td>\n",
       "      <td>9.9</td>\n",
       "      <td>21.7</td>\n",
       "      <td>2010</td>\n",
       "      <td>10</td>\n",
       "    </tr>\n",
       "    <tr>\n",
       "      <th>124970</th>\n",
       "      <td>12.6</td>\n",
       "      <td>21.4</td>\n",
       "      <td>0.0</td>\n",
       "      <td>5.468232</td>\n",
       "      <td>7.611178</td>\n",
       "      <td>37.0</td>\n",
       "      <td>13.0</td>\n",
       "      <td>17.0</td>\n",
       "      <td>57.0</td>\n",
       "      <td>48.0</td>\n",
       "      <td>1017.64994</td>\n",
       "      <td>1015.255889</td>\n",
       "      <td>4.447461</td>\n",
       "      <td>4.50993</td>\n",
       "      <td>16.5</td>\n",
       "      <td>20.4</td>\n",
       "      <td>2012</td>\n",
       "      <td>3</td>\n",
       "    </tr>\n",
       "    <tr>\n",
       "      <th>78135</th>\n",
       "      <td>3.6</td>\n",
       "      <td>14.7</td>\n",
       "      <td>0.0</td>\n",
       "      <td>2.000000</td>\n",
       "      <td>4.600000</td>\n",
       "      <td>24.0</td>\n",
       "      <td>4.0</td>\n",
       "      <td>15.0</td>\n",
       "      <td>99.0</td>\n",
       "      <td>98.0</td>\n",
       "      <td>1022.90000</td>\n",
       "      <td>1021.600000</td>\n",
       "      <td>2.000000</td>\n",
       "      <td>7.00000</td>\n",
       "      <td>6.3</td>\n",
       "      <td>12.1</td>\n",
       "      <td>2009</td>\n",
       "      <td>5</td>\n",
       "    </tr>\n",
       "    <tr>\n",
       "      <th>129044</th>\n",
       "      <td>11.6</td>\n",
       "      <td>15.2</td>\n",
       "      <td>0.0</td>\n",
       "      <td>5.468232</td>\n",
       "      <td>7.611178</td>\n",
       "      <td>33.0</td>\n",
       "      <td>13.0</td>\n",
       "      <td>20.0</td>\n",
       "      <td>72.0</td>\n",
       "      <td>74.0</td>\n",
       "      <td>1031.60000</td>\n",
       "      <td>1029.500000</td>\n",
       "      <td>4.447461</td>\n",
       "      <td>4.50993</td>\n",
       "      <td>12.7</td>\n",
       "      <td>14.6</td>\n",
       "      <td>2015</td>\n",
       "      <td>4</td>\n",
       "    </tr>\n",
       "  </tbody>\n",
       "</table>\n",
       "</div>"
      ],
      "text/plain": [
       "        MinTemp  MaxTemp  Rainfall  Evaporation   Sunshine  WindGustSpeed  \\\n",
       "64792       1.8     11.2       4.6     3.800000   2.900000           57.0   \n",
       "100191      4.3     22.4       0.0     2.400000  10.100000           31.0   \n",
       "124970     12.6     21.4       0.0     5.468232   7.611178           37.0   \n",
       "78135       3.6     14.7       0.0     2.000000   4.600000           24.0   \n",
       "129044     11.6     15.2       0.0     5.468232   7.611178           33.0   \n",
       "\n",
       "        WindSpeed9am  WindSpeed3pm  Humidity9am  Humidity3pm  Pressure9am  \\\n",
       "64792           31.0          35.0         74.0         62.0   1005.60000   \n",
       "100191          13.0          11.0        100.0         48.0   1027.70000   \n",
       "124970          13.0          17.0         57.0         48.0   1017.64994   \n",
       "78135            4.0          15.0         99.0         98.0   1022.90000   \n",
       "129044          13.0          20.0         72.0         74.0   1031.60000   \n",
       "\n",
       "        Pressure3pm  Cloud9am  Cloud3pm  Temp9am  Temp3pm  Year  Month  \n",
       "64792    999.700000  7.000000   7.00000      6.7     10.3  2010      8  \n",
       "100191  1024.000000  2.000000   1.00000      9.9     21.7  2010     10  \n",
       "124970  1015.255889  4.447461   4.50993     16.5     20.4  2012      3  \n",
       "78135   1021.600000  2.000000   7.00000      6.3     12.1  2009      5  \n",
       "129044  1029.500000  4.447461   4.50993     12.7     14.6  2015      4  "
      ]
     },
     "execution_count": 11,
     "metadata": {},
     "output_type": "execute_result"
    }
   ],
   "source": [
    "num_df.sample(5)"
   ]
  },
  {
   "cell_type": "code",
   "execution_count": 12,
   "id": "b3277bd1",
   "metadata": {},
   "outputs": [
    {
     "data": {
      "text/html": [
       "<div>\n",
       "<style scoped>\n",
       "    .dataframe tbody tr th:only-of-type {\n",
       "        vertical-align: middle;\n",
       "    }\n",
       "\n",
       "    .dataframe tbody tr th {\n",
       "        vertical-align: top;\n",
       "    }\n",
       "\n",
       "    .dataframe thead th {\n",
       "        text-align: right;\n",
       "    }\n",
       "</style>\n",
       "<table border=\"1\" class=\"dataframe\">\n",
       "  <thead>\n",
       "    <tr style=\"text-align: right;\">\n",
       "      <th></th>\n",
       "      <th>Location</th>\n",
       "      <th>WindGustDir</th>\n",
       "      <th>WindDir9am</th>\n",
       "      <th>WindDir3pm</th>\n",
       "      <th>RainToday</th>\n",
       "    </tr>\n",
       "  </thead>\n",
       "  <tbody>\n",
       "    <tr>\n",
       "      <th>141898</th>\n",
       "      <td>Darwin</td>\n",
       "      <td>ESE</td>\n",
       "      <td>E</td>\n",
       "      <td>ENE</td>\n",
       "      <td>No</td>\n",
       "    </tr>\n",
       "    <tr>\n",
       "      <th>117188</th>\n",
       "      <td>PearceRAAF</td>\n",
       "      <td>ENE</td>\n",
       "      <td>ENE</td>\n",
       "      <td>ENE</td>\n",
       "      <td>No</td>\n",
       "    </tr>\n",
       "    <tr>\n",
       "      <th>139753</th>\n",
       "      <td>Darwin</td>\n",
       "      <td>W</td>\n",
       "      <td>WSW</td>\n",
       "      <td>W</td>\n",
       "      <td>Yes</td>\n",
       "    </tr>\n",
       "    <tr>\n",
       "      <th>6739</th>\n",
       "      <td>Cobar</td>\n",
       "      <td>NE</td>\n",
       "      <td>NE</td>\n",
       "      <td>ENE</td>\n",
       "      <td>Yes</td>\n",
       "    </tr>\n",
       "    <tr>\n",
       "      <th>112964</th>\n",
       "      <td>Witchcliffe</td>\n",
       "      <td>W</td>\n",
       "      <td>W</td>\n",
       "      <td>WSW</td>\n",
       "      <td>Yes</td>\n",
       "    </tr>\n",
       "  </tbody>\n",
       "</table>\n",
       "</div>"
      ],
      "text/plain": [
       "           Location WindGustDir WindDir9am WindDir3pm RainToday\n",
       "141898       Darwin         ESE          E        ENE        No\n",
       "117188   PearceRAAF         ENE        ENE        ENE        No\n",
       "139753       Darwin           W        WSW          W       Yes\n",
       "6739          Cobar          NE         NE        ENE       Yes\n",
       "112964  Witchcliffe           W          W        WSW       Yes"
      ]
     },
     "execution_count": 12,
     "metadata": {},
     "output_type": "execute_result"
    }
   ],
   "source": [
    "cat_df.sample(5)"
   ]
  },
  {
   "cell_type": "markdown",
   "id": "54ff0a88",
   "metadata": {},
   "source": [
    "## Bi Variate Analysis for Categorical Data"
   ]
  },
  {
   "cell_type": "code",
   "execution_count": 13,
   "id": "a8014051",
   "metadata": {},
   "outputs": [
    {
     "data": {
      "image/png": "[encoded data removed]",
      "text/plain": [
       "<Figure size 432x288 with 1 Axes>"
      ]
     },
     "metadata": {
      "needs_background": "light"
     },
     "output_type": "display_data"
    },
    {
     "data": {
      "image/png": "[encoded data removed]",
      "text/plain": [
       "<Figure size 432x288 with 1 Axes>"
      ]
     },
     "metadata": {
      "needs_background": "light"
     },
     "output_type": "display_data"
    },
    {
     "data": {
      "image/png": "[encoded data removed]",
      "text/plain": [
       "<Figure size 432x288 with 1 Axes>"
      ]
     },
     "metadata": {
      "needs_background": "light"
     },
     "output_type": "display_data"
    },
    {
     "data": {
      "image/png": "[encoded data removed]",
      "text/plain": [
       "<Figure size 432x288 with 1 Axes>"
      ]
     },
     "metadata": {
      "needs_background": "light"
     },
     "output_type": "display_data"
    },
    {
     "data": {
      "image/png": "[encoded data removed]",
      "text/plain": [
       "<Figure size 432x288 with 1 Axes>"
      ]
     },
     "metadata": {
      "needs_background": "light"
     },
     "output_type": "display_data"
    }
   ],
   "source": [
    "cat_df_merged = pd.concat([y, cat_df], axis = 1, join =\"inner\")\n",
    "for col in cat_df.columns:\n",
    "    plt.figure()\n",
    "    sns.barplot(x=col, y=\"target\", data=cat_df_merged)\n",
    "plt.show()"
   ]
  },
  {
   "cell_type": "code",
   "execution_count": 14,
   "id": "aee2738f",
   "metadata": {},
   "outputs": [],
   "source": [
    "# It can be inferred from the plot that the all catgorical columns have same frequency of data regarding the target columns.\n",
    "# Hence we can remove all these categorical data"
   ]
  },
  {
   "cell_type": "markdown",
   "id": "d405c0ae",
   "metadata": {},
   "source": [
    "## Capping and flooring of the outliers in numerical Variables"
   ]
  },
  {
   "cell_type": "code",
   "execution_count": 15,
   "id": "2300a3ad",
   "metadata": {},
   "outputs": [
    {
     "data": {
      "text/plain": [
       "(123710, 18)"
      ]
     },
     "execution_count": 15,
     "metadata": {},
     "output_type": "execute_result"
    }
   ],
   "source": [
    "def outlier_cap(X):\n",
    "    X = X.clip(lower=X.quantile(0.01))\n",
    "    X=X.clip(upper=X.quantile(0.99))\n",
    "    return X\n",
    "\n",
    "num_df = num_df.apply(lambda x: outlier_cap(x))\n",
    "num_df.shape"
   ]
  },
  {
   "cell_type": "markdown",
   "id": "4cdf2a2a",
   "metadata": {},
   "source": [
    "## Feature Selection - Numerical Features\n",
    "Remove features with 0 variance"
   ]
  },
  {
   "cell_type": "code",
   "execution_count": 16,
   "id": "3e2fa0b5",
   "metadata": {},
   "outputs": [
    {
     "data": {
      "text/plain": [
       "(123710, 18)"
      ]
     },
     "execution_count": 16,
     "metadata": {},
     "output_type": "execute_result"
    }
   ],
   "source": [
    "from sklearn.feature_selection import VarianceThreshold\n",
    "\n",
    "var_selector = VarianceThreshold(threshold=0)\n",
    "var_selector.fit(num_df)\n",
    "cols = var_selector.get_support(indices=True)\n",
    "num_df = num_df.iloc[:,cols]\n",
    "num_df.shape"
   ]
  },
  {
   "cell_type": "code",
   "execution_count": 17,
   "id": "4b9cb1a4",
   "metadata": {},
   "outputs": [
    {
     "data": {
      "text/html": [
       "<div>\n",
       "<style scoped>\n",
       "    .dataframe tbody tr th:only-of-type {\n",
       "        vertical-align: middle;\n",
       "    }\n",
       "\n",
       "    .dataframe tbody tr th {\n",
       "        vertical-align: top;\n",
       "    }\n",
       "\n",
       "    .dataframe thead th {\n",
       "        text-align: right;\n",
       "    }\n",
       "</style>\n",
       "<table border=\"1\" class=\"dataframe\">\n",
       "  <thead>\n",
       "    <tr style=\"text-align: right;\">\n",
       "      <th></th>\n",
       "      <th>MinTemp</th>\n",
       "      <th>MaxTemp</th>\n",
       "      <th>Rainfall</th>\n",
       "      <th>Evaporation</th>\n",
       "      <th>Sunshine</th>\n",
       "      <th>WindGustSpeed</th>\n",
       "      <th>WindSpeed9am</th>\n",
       "      <th>WindSpeed3pm</th>\n",
       "      <th>Humidity9am</th>\n",
       "      <th>Humidity3pm</th>\n",
       "      <th>Pressure9am</th>\n",
       "      <th>Pressure3pm</th>\n",
       "      <th>Cloud9am</th>\n",
       "      <th>Cloud3pm</th>\n",
       "      <th>Temp9am</th>\n",
       "      <th>Temp3pm</th>\n",
       "      <th>Year</th>\n",
       "      <th>Month</th>\n",
       "    </tr>\n",
       "  </thead>\n",
       "  <tbody>\n",
       "    <tr>\n",
       "      <th>118487</th>\n",
       "      <td>5.1</td>\n",
       "      <td>19.8</td>\n",
       "      <td>0.0</td>\n",
       "      <td>2.2</td>\n",
       "      <td>9.2</td>\n",
       "      <td>50.0</td>\n",
       "      <td>13.0</td>\n",
       "      <td>31.0</td>\n",
       "      <td>69.0</td>\n",
       "      <td>44.0</td>\n",
       "      <td>1028.1</td>\n",
       "      <td>1025.4</td>\n",
       "      <td>1.0</td>\n",
       "      <td>1.0</td>\n",
       "      <td>13.7</td>\n",
       "      <td>19.4</td>\n",
       "      <td>2011.0</td>\n",
       "      <td>6</td>\n",
       "    </tr>\n",
       "    <tr>\n",
       "      <th>14117</th>\n",
       "      <td>22.4</td>\n",
       "      <td>37.7</td>\n",
       "      <td>0.0</td>\n",
       "      <td>16.0</td>\n",
       "      <td>12.6</td>\n",
       "      <td>63.0</td>\n",
       "      <td>30.0</td>\n",
       "      <td>9.0</td>\n",
       "      <td>40.0</td>\n",
       "      <td>15.0</td>\n",
       "      <td>1017.2</td>\n",
       "      <td>1012.6</td>\n",
       "      <td>3.0</td>\n",
       "      <td>1.0</td>\n",
       "      <td>26.7</td>\n",
       "      <td>36.1</td>\n",
       "      <td>2014.0</td>\n",
       "      <td>11</td>\n",
       "    </tr>\n",
       "    <tr>\n",
       "      <th>62911</th>\n",
       "      <td>10.2</td>\n",
       "      <td>22.2</td>\n",
       "      <td>1.2</td>\n",
       "      <td>6.0</td>\n",
       "      <td>11.0</td>\n",
       "      <td>35.0</td>\n",
       "      <td>17.0</td>\n",
       "      <td>11.0</td>\n",
       "      <td>63.0</td>\n",
       "      <td>41.0</td>\n",
       "      <td>1020.1</td>\n",
       "      <td>1018.3</td>\n",
       "      <td>2.0</td>\n",
       "      <td>1.0</td>\n",
       "      <td>15.2</td>\n",
       "      <td>21.6</td>\n",
       "      <td>2013.0</td>\n",
       "      <td>12</td>\n",
       "    </tr>\n",
       "    <tr>\n",
       "      <th>99990</th>\n",
       "      <td>8.3</td>\n",
       "      <td>22.1</td>\n",
       "      <td>0.0</td>\n",
       "      <td>4.0</td>\n",
       "      <td>7.2</td>\n",
       "      <td>33.0</td>\n",
       "      <td>15.0</td>\n",
       "      <td>24.0</td>\n",
       "      <td>68.0</td>\n",
       "      <td>50.0</td>\n",
       "      <td>1025.0</td>\n",
       "      <td>1023.9</td>\n",
       "      <td>7.0</td>\n",
       "      <td>2.0</td>\n",
       "      <td>16.0</td>\n",
       "      <td>21.1</td>\n",
       "      <td>2010.0</td>\n",
       "      <td>3</td>\n",
       "    </tr>\n",
       "    <tr>\n",
       "      <th>67044</th>\n",
       "      <td>13.3</td>\n",
       "      <td>22.2</td>\n",
       "      <td>0.0</td>\n",
       "      <td>4.4</td>\n",
       "      <td>10.6</td>\n",
       "      <td>33.0</td>\n",
       "      <td>22.0</td>\n",
       "      <td>19.0</td>\n",
       "      <td>65.0</td>\n",
       "      <td>49.0</td>\n",
       "      <td>1014.9</td>\n",
       "      <td>1015.2</td>\n",
       "      <td>7.0</td>\n",
       "      <td>4.0</td>\n",
       "      <td>15.4</td>\n",
       "      <td>21.7</td>\n",
       "      <td>2017.0</td>\n",
       "      <td>1</td>\n",
       "    </tr>\n",
       "  </tbody>\n",
       "</table>\n",
       "</div>"
      ],
      "text/plain": [
       "        MinTemp  MaxTemp  Rainfall  Evaporation  Sunshine  WindGustSpeed  \\\n",
       "118487      5.1     19.8       0.0          2.2       9.2           50.0   \n",
       "14117      22.4     37.7       0.0         16.0      12.6           63.0   \n",
       "62911      10.2     22.2       1.2          6.0      11.0           35.0   \n",
       "99990       8.3     22.1       0.0          4.0       7.2           33.0   \n",
       "67044      13.3     22.2       0.0          4.4      10.6           33.0   \n",
       "\n",
       "        WindSpeed9am  WindSpeed3pm  Humidity9am  Humidity3pm  Pressure9am  \\\n",
       "118487          13.0          31.0         69.0         44.0       1028.1   \n",
       "14117           30.0           9.0         40.0         15.0       1017.2   \n",
       "62911           17.0          11.0         63.0         41.0       1020.1   \n",
       "99990           15.0          24.0         68.0         50.0       1025.0   \n",
       "67044           22.0          19.0         65.0         49.0       1014.9   \n",
       "\n",
       "        Pressure3pm  Cloud9am  Cloud3pm  Temp9am  Temp3pm    Year  Month  \n",
       "118487       1025.4       1.0       1.0     13.7     19.4  2011.0      6  \n",
       "14117        1012.6       3.0       1.0     26.7     36.1  2014.0     11  \n",
       "62911        1018.3       2.0       1.0     15.2     21.6  2013.0     12  \n",
       "99990        1023.9       7.0       2.0     16.0     21.1  2010.0      3  \n",
       "67044        1015.2       7.0       4.0     15.4     21.7  2017.0      1  "
      ]
     },
     "execution_count": 17,
     "metadata": {},
     "output_type": "execute_result"
    }
   ],
   "source": [
    "num_df.sample(5)"
   ]
  },
  {
   "cell_type": "code",
   "execution_count": 18,
   "id": "c7fd2db0",
   "metadata": {},
   "outputs": [],
   "source": [
    "X = num_df"
   ]
  },
  {
   "cell_type": "markdown",
   "id": "8e0c1905",
   "metadata": {},
   "source": [
    "## Checking the class imbalance "
   ]
  },
  {
   "cell_type": "code",
   "execution_count": 19,
   "id": "d2e3096f",
   "metadata": {},
   "outputs": [
    {
     "data": {
      "text/plain": [
       "0    77.857893\n",
       "1    22.142107\n",
       "Name: target, dtype: float64"
      ]
     },
     "execution_count": 19,
     "metadata": {},
     "output_type": "execute_result"
    }
   ],
   "source": [
    "y.value_counts(normalize=True)*100"
   ]
  },
  {
   "cell_type": "markdown",
   "id": "c4a44cbe",
   "metadata": {},
   "source": [
    "The datasets seems to be imbalanced dataset so we will use SMOTE technique to handle this problem."
   ]
  },
  {
   "cell_type": "code",
   "execution_count": 20,
   "id": "da3106ea",
   "metadata": {},
   "outputs": [
    {
     "data": {
      "text/plain": [
       "0    96318\n",
       "1    96318\n",
       "Name: target, dtype: int64"
      ]
     },
     "execution_count": 20,
     "metadata": {},
     "output_type": "execute_result"
    }
   ],
   "source": [
    "from imblearn.over_sampling import SMOTE\n",
    "\n",
    "smote = SMOTE(sampling_strategy='minority')\n",
    "X_sm, y_sm = smote.fit_resample(X, y)\n",
    "y_sm.value_counts()"
   ]
  },
  {
   "cell_type": "code",
   "execution_count": 21,
   "id": "5465cc74",
   "metadata": {},
   "outputs": [
    {
     "data": {
      "text/plain": [
       "((154108, 18), (154108,))"
      ]
     },
     "execution_count": 21,
     "metadata": {},
     "output_type": "execute_result"
    }
   ],
   "source": [
    "X_train, X_test, y_train, y_test = train_test_split(X_sm, y_sm, test_size=0.2, random_state=40, stratify=y_sm)\n",
    "X_train.shape, y_train.shape"
   ]
  },
  {
   "cell_type": "code",
   "execution_count": 22,
   "id": "3fc19859",
   "metadata": {},
   "outputs": [
    {
     "data": {
      "text/plain": [
       "((38528, 18), (38528,))"
      ]
     },
     "execution_count": 22,
     "metadata": {},
     "output_type": "execute_result"
    }
   ],
   "source": [
    "X_test.shape, y_test.shape"
   ]
  },
  {
   "cell_type": "code",
   "execution_count": 23,
   "id": "f3efe28b",
   "metadata": {},
   "outputs": [
    {
     "data": {
      "text/plain": [
       "array([[0.72091398, 0.5713598 , 0.00780781, 0.21998925, 0.1018763 ,\n",
       "        0.39817944, 0.21710898, 0.26880728, 0.7916712 , 0.89091337,\n",
       "        0.03500485, 0.04392353, 0.96771775, 0.90728225, 0.66171116,\n",
       "        0.47088054, 0.50183512, 0.        ],\n",
       "       [0.55094739, 0.75      , 0.        , 0.32488664, 0.7518797 ,\n",
       "        0.28125   , 0.18918919, 0.28205128, 0.21686747, 0.08988764,\n",
       "        0.50301205, 0.53703704, 0.55593266, 0.56374126, 0.69964664,\n",
       "        0.74193548, 0.55555556, 0.90909091],\n",
       "       [0.26044644, 0.25771232, 0.00497391, 0.32488664, 0.57226899,\n",
       "        0.27523907, 0.18621854, 0.40321063, 0.75969828, 0.69477673,\n",
       "        0.99519953, 0.99694683, 0.55593266, 0.56374126, 0.38267254,\n",
       "        0.29971494, 0.32722699, 0.63636364],\n",
       "       [0.80650579, 0.67628205, 0.        , 0.42307692, 0.57226899,\n",
       "        0.3125    , 0.35135135, 0.46153846, 0.1686747 , 0.48920355,\n",
       "        0.48192771, 0.44444444, 0.875     , 1.        , 0.70318021,\n",
       "        0.69677419, 0.55555556, 0.45454545],\n",
       "       [0.31364317, 0.10576923, 0.        , 0.11538462, 0.09022556,\n",
       "        0.203125  , 0.18918919, 0.33333333, 0.72289157, 0.71910112,\n",
       "        1.        , 1.        , 0.875     , 0.875     , 0.22614841,\n",
       "        0.13225806, 0.77777778, 0.45454545]])"
      ]
     },
     "execution_count": 23,
     "metadata": {},
     "output_type": "execute_result"
    }
   ],
   "source": [
    "mm_sc = MinMaxScaler()\n",
    "X_train_sc = mm_sc.fit_transform(X_train)\n",
    "X_test_sc = mm_sc.transform(X_test)\n",
    "X_train_sc[0:5]"
   ]
  },
  {
   "cell_type": "code",
   "execution_count": 24,
   "id": "19ee4ebe",
   "metadata": {},
   "outputs": [
    {
     "data": {
      "text/plain": [
       "'from sklearn.ensemble import GradientBoostingClassifier\\n\\nlr_list = [0.48, 0.5, 0.57, 0.58]\\nn_estimators_list = [80, 100]\\nmax_depth_list = [4, 6]\\nmax_features_list = [4, 6]\\nrandom_state_list = [0]\\nbest_hyper_parameter = {\"n_estimators\": 0, \"learning_rate\":0, \"max_depth\":0, \"max_features\":0, \"random_state\": 0}\\nbest_train_accuracy = 0\\nbest_test_accuracy = 0\\n\\nfor lr in lr_list:\\n    print(f\"learning Rate: {lr}\")\\n    for n_estimators in n_estimators_list:\\n        for max_depth in max_depth_list:\\n            for random_state in random_state_list:\\n                for max_features in max_features_list:\\n                    gb_clf = GradientBoostingClassifier(n_estimators=n_estimators, \\n                                                        learning_rate=lr, max_depth=max_depth, \\n                                                        max_features=max_features, random_state=random_state)\\n                    gb_clf.fit(X_train_sc, y_train)\\n                    train_accuracy = gb_clf.score(X_train_sc, y_train)\\n                    test_accuracy = gb_clf.score(X_test_sc, y_test)\\n                    print(f\"test accuracy: {test_accuracy}\")\\n                    print(f\"train accuracy: {train_accuracy}\")\\n                    if train_accuracy>=test_accuracy:\\n                        if test_accuracy > best_test_accuracy :\\n                            best_hyper_parameter[\"n_estimators\"] = n_estimators\\n                            best_hyper_parameter[\"learning_rate\"] = lr\\n                            best_hyper_parameter[\"max_depth\"] = max_depth\\n                            best_hyper_parameter[\"max_features\"] = max_features\\n                            best_hyper_parameter[\"random_state\"] = random_state\\n                            best_train_accuracy = train_accuracy\\n                            best_test_accuracy = test_accuracy  '"
      ]
     },
     "execution_count": 24,
     "metadata": {},
     "output_type": "execute_result"
    }
   ],
   "source": [
    "'''from sklearn.ensemble import GradientBoostingClassifier\n",
    "\n",
    "lr_list = [0.48, 0.5, 0.57, 0.58]\n",
    "n_estimators_list = [80, 100]\n",
    "max_depth_list = [4, 6]\n",
    "max_features_list = [4, 6]\n",
    "random_state_list = [0]\n",
    "best_hyper_parameter = {\"n_estimators\": 0, \"learning_rate\":0, \"max_depth\":0, \"max_features\":0, \"random_state\": 0}\n",
    "best_train_accuracy = 0\n",
    "best_test_accuracy = 0\n",
    "\n",
    "for lr in lr_list:\n",
    "    print(f\"learning Rate: {lr}\")\n",
    "    for n_estimators in n_estimators_list:\n",
    "        for max_depth in max_depth_list:\n",
    "            for random_state in random_state_list:\n",
    "                for max_features in max_features_list:\n",
    "                    gb_clf = GradientBoostingClassifier(n_estimators=n_estimators, \n",
    "                                                        learning_rate=lr, max_depth=max_depth, \n",
    "                                                        max_features=max_features, random_state=random_state)\n",
    "                    gb_clf.fit(X_train_sc, y_train)\n",
    "                    train_accuracy = gb_clf.score(X_train_sc, y_train)\n",
    "                    test_accuracy = gb_clf.score(X_test_sc, y_test)\n",
    "                    print(f\"test accuracy: {test_accuracy}\")\n",
    "                    print(f\"train accuracy: {train_accuracy}\")\n",
    "                    if train_accuracy>=test_accuracy:\n",
    "                        if test_accuracy > best_test_accuracy :\n",
    "                            best_hyper_parameter[\"n_estimators\"] = n_estimators\n",
    "                            best_hyper_parameter[\"learning_rate\"] = lr\n",
    "                            best_hyper_parameter[\"max_depth\"] = max_depth\n",
    "                            best_hyper_parameter[\"max_features\"] = max_features\n",
    "                            best_hyper_parameter[\"random_state\"] = random_state\n",
    "                            best_train_accuracy = train_accuracy\n",
    "                            best_test_accuracy = test_accuracy  '''"
   ]
  },
  {
   "cell_type": "code",
   "execution_count": 25,
   "id": "96c1c963",
   "metadata": {},
   "outputs": [],
   "source": [
    "#best_train_accuracy, best_test_accuracy"
   ]
  },
  {
   "cell_type": "code",
   "execution_count": 26,
   "id": "922c5adf",
   "metadata": {},
   "outputs": [],
   "source": [
    "#best_hyper_parameter"
   ]
  },
  {
   "cell_type": "code",
   "execution_count": 27,
   "id": "510ce9f5",
   "metadata": {},
   "outputs": [
    {
     "name": "stdout",
     "output_type": "stream",
     "text": [
      "0.9032132475083057\n"
     ]
    }
   ],
   "source": [
    "from sklearn.ensemble import GradientBoostingClassifier\n",
    "best_gb_clf = GradientBoostingClassifier(n_estimators=100, \n",
    "                                                        learning_rate=0.5, max_depth=6, \n",
    "                                                        max_features=4, random_state=0)\n",
    "best_gb_clf.fit(X_train_sc, y_train)\n",
    "train_accuracy = best_gb_clf.score(X_train_sc, y_train)\n",
    "test_accuracy = best_gb_clf.score(X_test_sc, y_test)\n",
    "\n",
    "y_pred = best_gb_clf.predict(X_test_sc)\n",
    "print(accuracy_score(y_test, y_pred))"
   ]
  },
  {
   "cell_type": "code",
   "execution_count": 28,
   "id": "b1287632",
   "metadata": {},
   "outputs": [
    {
     "name": "stdout",
     "output_type": "stream",
     "text": [
      "              precision    recall  f1-score   support\n",
      "\n",
      "           0       0.88      0.93      0.91     19264\n",
      "           1       0.93      0.88      0.90     19264\n",
      "\n",
      "    accuracy                           0.90     38528\n",
      "   macro avg       0.90      0.90      0.90     38528\n",
      "weighted avg       0.90      0.90      0.90     38528\n",
      "\n"
     ]
    }
   ],
   "source": [
    "print(classification_report(y_test, y_pred, target_names=['0', '1']))"
   ]
  },
  {
   "cell_type": "markdown",
   "id": "1d6fcfbb",
   "metadata": {},
   "source": [
    "## XGBOOST CLASSIFIER"
   ]
  },
  {
   "cell_type": "code",
   "execution_count": 29,
   "id": "9eb0f08e",
   "metadata": {},
   "outputs": [
    {
     "data": {
      "text/plain": [
       "'from xgboost import XGBClassifier\\n\\nboosters = [\"gbtree\"]\\nn_estimators = [80, 100]\\netas = [0.2, 0.3, 0.4]\\nmax_depths = [6,8, 10]\\nbest_train_score = 0\\nbest_test_score = 0\\nbest_hyper_parameter = {\"n_estimators\": 0, \"eta\":0, \"max_depth\":0, \"booster\": \"\"}\\n\\n\\nfor boost in boosters:\\n    print(f\"booster: {boost}\")\\n    for n_est in n_estimators:\\n        for lr in etas:\\n            for max_dt in max_depths:\\n                xgb_clf = XGBClassifier(use_label_encoder=False,\\n                                        booster=boost,\\n                                       n_estimators=n_est,\\n                                       eta=lr,\\n                                       max_depth=max_dt)\\n                \\n                xgb_clf.fit(X_train_sc, y_train)\\n                train_score = xgb_clf.score(X_train_sc, y_train)\\n                test_score = xgb_clf.score(X_test_sc, y_test)\\n                if train_score>=test_score:\\n                    if test_score > best_test_score:\\n                        best_train_score = train_score\\n                        best_test_score = test_score\\n                        best_hyper_parameter[\"n_estimators\"] = n_est\\n                        best_hyper_parameter[\"eta\"] = lr\\n                        best_hyper_parameter[\"max_depth\"] = max_dt\\n                        best_hyper_parameter[\"booster\"] = boost\\n                        print(f\"best train score: {best_train_score}\")\\n                        print(f\"best test score: {best_test_score}\")'"
      ]
     },
     "execution_count": 29,
     "metadata": {},
     "output_type": "execute_result"
    }
   ],
   "source": [
    "'''from xgboost import XGBClassifier\n",
    "\n",
    "boosters = [\"gbtree\"]\n",
    "n_estimators = [80, 100]\n",
    "etas = [0.2, 0.3, 0.4]\n",
    "max_depths = [6,8, 10]\n",
    "best_train_score = 0\n",
    "best_test_score = 0\n",
    "best_hyper_parameter = {\"n_estimators\": 0, \"eta\":0, \"max_depth\":0, \"booster\": \"\"}\n",
    "\n",
    "\n",
    "for boost in boosters:\n",
    "    print(f\"booster: {boost}\")\n",
    "    for n_est in n_estimators:\n",
    "        for lr in etas:\n",
    "            for max_dt in max_depths:\n",
    "                xgb_clf = XGBClassifier(use_label_encoder=False,\n",
    "                                        booster=boost,\n",
    "                                       n_estimators=n_est,\n",
    "                                       eta=lr,\n",
    "                                       max_depth=max_dt)\n",
    "                \n",
    "                xgb_clf.fit(X_train_sc, y_train)\n",
    "                train_score = xgb_clf.score(X_train_sc, y_train)\n",
    "                test_score = xgb_clf.score(X_test_sc, y_test)\n",
    "                if train_score>=test_score:\n",
    "                    if test_score > best_test_score:\n",
    "                        best_train_score = train_score\n",
    "                        best_test_score = test_score\n",
    "                        best_hyper_parameter[\"n_estimators\"] = n_est\n",
    "                        best_hyper_parameter[\"eta\"] = lr\n",
    "                        best_hyper_parameter[\"max_depth\"] = max_dt\n",
    "                        best_hyper_parameter[\"booster\"] = boost\n",
    "                        print(f\"best train score: {best_train_score}\")\n",
    "                        print(f\"best test score: {best_test_score}\")'''\n"
   ]
  },
  {
   "cell_type": "code",
   "execution_count": 30,
   "id": "77c45c14",
   "metadata": {},
   "outputs": [],
   "source": [
    "#best_train_accuracy, best_test_accuracy"
   ]
  },
  {
   "cell_type": "code",
   "execution_count": 31,
   "id": "d8d9acbd",
   "metadata": {},
   "outputs": [],
   "source": [
    "#best_hyper_parameter"
   ]
  },
  {
   "cell_type": "code",
   "execution_count": 32,
   "id": "068416e5",
   "metadata": {},
   "outputs": [
    {
     "name": "stdout",
     "output_type": "stream",
     "text": [
      "0.9112074335548173\n"
     ]
    }
   ],
   "source": [
    "from xgboost import XGBClassifier\n",
    "best_xgb_clf = XGBClassifier(use_label_encoder=False,\n",
    "                                        booster='gbtree',\n",
    "                                       n_estimators=100,\n",
    "                                       eta=0.2,\n",
    "                                       max_depth=10)\n",
    "                \n",
    "best_xgb_clf.fit(X_train_sc, y_train)\n",
    "y_pred = best_xgb_clf.predict(X_test_sc)\n",
    "print(accuracy_score(y_test, y_pred))"
   ]
  },
  {
   "cell_type": "code",
   "execution_count": null,
   "id": "5bb63ed6",
   "metadata": {},
   "outputs": [],
   "source": []
  }
 ],
 "metadata": {
  "kernelspec": {
   "display_name": "Python 3 (ipykernel)",
   "language": "python",
   "name": "python3"
  },
  "language_info": {
   "codemirror_mode": {
    "name": "ipython",
    "version": 3
   },
   "file_extension": ".py",
   "mimetype": "text/x-python",
   "name": "python",
   "nbconvert_exporter": "python",
   "pygments_lexer": "ipython3",
   "version": "3.8.0"
  }
 },
 "nbformat": 4,
 "nbformat_minor": 5
}
